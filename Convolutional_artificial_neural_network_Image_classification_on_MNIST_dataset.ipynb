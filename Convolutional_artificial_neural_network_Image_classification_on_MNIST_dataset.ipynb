{
  "nbformat": 4,
  "nbformat_minor": 0,
  "metadata": {
    "colab": {
      "name": "Convolutional artificial neural network : Image classification on MNIST dataset",
      "provenance": [],
      "collapsed_sections": []
    },
    "kernelspec": {
      "name": "python3",
      "display_name": "Python 3"
    },
    "accelerator": "GPU"
  },
  "cells": [
    {
      "cell_type": "markdown",
      "metadata": {
        "id": "WwG5uxEpKaNL"
      },
      "source": [
        "# Convolutional artificial neural network : Image classification on MNIST dataset\n",
        "- Test Accuracy 98.92% without data augmentation\n"
      ]
    },
    {
      "cell_type": "code",
      "metadata": {
        "id": "o-DUt8ROKlvw"
      },
      "source": [
        "# Import modules\n",
        "from sklearn.datasets import fetch_openml\n",
        "from sklearn.model_selection import train_test_split\n",
        "import numpy as np\n",
        "\n",
        "import tensorflow.keras as keras\n",
        "from tensorflow.keras.models import Sequential\n",
        "from tensorflow.keras.layers import Conv2D, MaxPooling2D, BatchNormalization, Dropout, Input, Activation, Add, Dense, Flatten"
      ],
      "execution_count": 1,
      "outputs": []
    },
    {
      "cell_type": "markdown",
      "metadata": {
        "id": "arrbzOo4LR9q"
      },
      "source": [
        "### Data preparation\n",
        "\n",
        "#### Import data"
      ]
    },
    {
      "cell_type": "code",
      "metadata": {
        "id": "s4wT7dbPLTNZ"
      },
      "source": [
        "def load_data():\n",
        "    # Import MNIST dataset from openml\n",
        "    dataset = fetch_openml('mnist_784', version=1, data_home=None)\n",
        "\n",
        "    # Data preparation\n",
        "    raw_X = dataset['data']\n",
        "    raw_Y = dataset['target']\n",
        "    return raw_X, raw_Y\n",
        "\n",
        "raw_X, raw_Y = load_data()"
      ],
      "execution_count": 2,
      "outputs": []
    },
    {
      "cell_type": "markdown",
      "source": [
        "#### Preprocessing"
      ],
      "metadata": {
        "id": "j_sy6rY4rQ2g"
      }
    },
    {
      "cell_type": "code",
      "metadata": {
        "id": "8mG0hdDRLZgD"
      },
      "source": [
        "def clean_data(raw_X, raw_Y):\n",
        "\n",
        "    cleaned_X = raw_X.astype('float32')\n",
        "    cleaned_X /= 255\n",
        "    cleaned_X = np.array(cleaned_X)\n",
        "\n",
        "    cleaned_X = cleaned_X.reshape(cleaned_X.shape[0], 28, 28, 1)\n",
        "        \n",
        "    num_classes = 10\n",
        "    cleaned_Y = keras.utils.to_categorical(raw_Y, num_classes)\n",
        "    \n",
        "    return cleaned_X, cleaned_Y\n",
        "    \n",
        "cleaned_X, cleaned_Y = clean_data(raw_X, raw_Y)"
      ],
      "execution_count": 3,
      "outputs": []
    },
    {
      "cell_type": "code",
      "source": [
        "cleaned_X.shape"
      ],
      "metadata": {
        "colab": {
          "base_uri": "https://localhost:8080/"
        },
        "id": "FbZRZTlUPI3d",
        "outputId": "9610106f-1f41-43e1-a327-66be12c5982d"
      },
      "execution_count": 4,
      "outputs": [
        {
          "output_type": "execute_result",
          "data": {
            "text/plain": [
              "(70000, 28, 28, 1)"
            ]
          },
          "metadata": {},
          "execution_count": 4
        }
      ]
    },
    {
      "cell_type": "code",
      "source": [
        "cleaned_Y.shape"
      ],
      "metadata": {
        "colab": {
          "base_uri": "https://localhost:8080/"
        },
        "id": "t0ngpH0tPIor",
        "outputId": "efab0aa7-f8c3-4cb6-b899-f7eb8d651386"
      },
      "execution_count": 5,
      "outputs": [
        {
          "output_type": "execute_result",
          "data": {
            "text/plain": [
              "(70000, 10)"
            ]
          },
          "metadata": {},
          "execution_count": 5
        }
      ]
    },
    {
      "cell_type": "markdown",
      "metadata": {
        "id": "K5OYgzj7NU_y"
      },
      "source": [
        "#### Data split\n",
        "\n",
        "- Split your data into a train set (50%), validation set (20%) and a test set (30%)."
      ]
    },
    {
      "cell_type": "code",
      "metadata": {
        "id": "7h7HIVDNNYap"
      },
      "source": [
        "def split_data(cleaned_X, cleaned_Y):\n",
        "\n",
        "    X_train, X_test, Y_train, Y_test = train_test_split(cleaned_X, cleaned_Y, test_size=0.3, random_state=42)\n",
        "    X_train, X_val, Y_train, Y_val = train_test_split(X_train, Y_train, test_size=2/7, random_state=42)\n",
        "    \n",
        "    return X_val, X_test, X_train, Y_val, Y_test, Y_train\n",
        "\n",
        "X_val, X_test, X_train, Y_val, Y_test, Y_train = split_data(cleaned_X, cleaned_Y)"
      ],
      "execution_count": 17,
      "outputs": []
    },
    {
      "cell_type": "code",
      "source": [
        "X_train.shape"
      ],
      "metadata": {
        "id": "nwwhZQDGtPgZ",
        "outputId": "5cabe771-316c-4df0-b347-d11ea1e660dc",
        "colab": {
          "base_uri": "https://localhost:8080/"
        }
      },
      "execution_count": 18,
      "outputs": [
        {
          "output_type": "execute_result",
          "data": {
            "text/plain": [
              "(35000, 28, 28, 1)"
            ]
          },
          "metadata": {},
          "execution_count": 18
        }
      ]
    },
    {
      "cell_type": "code",
      "source": [
        "X_val.shape"
      ],
      "metadata": {
        "colab": {
          "base_uri": "https://localhost:8080/"
        },
        "id": "7yBaWKLoRyLZ",
        "outputId": "b7c5547c-dfb1-4684-af26-8c80241bcff5"
      },
      "execution_count": 8,
      "outputs": [
        {
          "output_type": "execute_result",
          "data": {
            "text/plain": [
              "(14000, 28, 28, 1)"
            ]
          },
          "metadata": {},
          "execution_count": 8
        }
      ]
    },
    {
      "cell_type": "code",
      "source": [
        "X_test.shape"
      ],
      "metadata": {
        "colab": {
          "base_uri": "https://localhost:8080/"
        },
        "id": "FpAoxA_TRzlK",
        "outputId": "530bb94c-4eaf-4af4-c026-47ce623e04f5"
      },
      "execution_count": 9,
      "outputs": [
        {
          "output_type": "execute_result",
          "data": {
            "text/plain": [
              "(21000, 28, 28, 1)"
            ]
          },
          "metadata": {},
          "execution_count": 9
        }
      ]
    },
    {
      "cell_type": "markdown",
      "metadata": {
        "id": "mY_z08TdNada"
      },
      "source": [
        "### Model\n",
        "\n",
        "#### Convolutional neural network structure\n"
      ]
    },
    {
      "cell_type": "code",
      "metadata": {
        "id": "dKAx26EDN3Yk"
      },
      "source": [
        "def build_model():\n",
        "\n",
        "    model = Sequential()\n",
        "    \n",
        "    model.add(Conv2D(filters=64, kernel_size=(3,3), activation='relu', input_shape=(28, 28, 1)))\n",
        "    model.add(Conv2D(filters=64, kernel_size=(3,3), activation='relu'))\n",
        "    model.add(MaxPooling2D((2,2)))\n",
        "    model.add(Dropout(0.20))\n",
        "\n",
        "    model.add(Conv2D(filters=128, kernel_size=(3,3), activation='relu'))\n",
        "    model.add(Conv2D(filters=128, kernel_size=(3,3), activation='relu'))\n",
        "    model.add(MaxPooling2D((2,2), strides=(2, 2)))\n",
        "    model.add(Conv2D(256, kernel_size = (3,3), activation='relu'))\n",
        "    model.add(MaxPooling2D((2,2)))\n",
        "    model.add(Dropout(0.4))\n",
        "\n",
        "    model.add(Flatten())\n",
        "    model.add(Dense(512, activation='relu'))\n",
        "    model.add(Dense(10, activation='softmax'))\n",
        "\n",
        "    model.summary()\n",
        "    \n",
        "    return model\n",
        "\n",
        "def compile_model(model):\n",
        "\n",
        "    model.compile(optimizer = 'adam', loss = 'categorical_crossentropy', metrics = ['accuracy'])\n",
        "\n",
        "    return model\n",
        "\n",
        "\n",
        "def train_model(model, X_train, Y_train, X_val, Y_val):\n",
        "\n",
        "    history = model.fit(X_train, Y_train, batch_size = 128, epochs = 15, verbose=1, validation_data=(X_val, Y_val))\n",
        "\n",
        "    return model, history"
      ],
      "execution_count": 14,
      "outputs": []
    },
    {
      "cell_type": "code",
      "metadata": {
        "id": "Bg5E9ChPOt_l",
        "colab": {
          "base_uri": "https://localhost:8080/"
        },
        "outputId": "a458b08b-e882-4547-d6ad-b5c51b0671bf"
      },
      "source": [
        "model = build_model()\n",
        "model = compile_model(model)\n",
        "model, history = train_model(model, X_train, Y_train, X_val, Y_val)\n",
        "test_loss, test_accuracy = eval_model(model, X_test, Y_test)"
      ],
      "execution_count": 12,
      "outputs": [
        {
          "output_type": "stream",
          "name": "stdout",
          "text": [
            "Model: \"sequential\"\n",
            "_________________________________________________________________\n",
            " Layer (type)                Output Shape              Param #   \n",
            "=================================================================\n",
            " conv2d (Conv2D)             (None, 26, 26, 64)        640       \n",
            "                                                                 \n",
            " conv2d_1 (Conv2D)           (None, 24, 24, 64)        36928     \n",
            "                                                                 \n",
            " max_pooling2d (MaxPooling2D  (None, 12, 12, 64)       0         \n",
            " )                                                               \n",
            "                                                                 \n",
            " dropout (Dropout)           (None, 12, 12, 64)        0         \n",
            "                                                                 \n",
            " conv2d_2 (Conv2D)           (None, 10, 10, 128)       73856     \n",
            "                                                                 \n",
            " conv2d_3 (Conv2D)           (None, 8, 8, 128)         147584    \n",
            "                                                                 \n",
            " max_pooling2d_1 (MaxPooling  (None, 4, 4, 128)        0         \n",
            " 2D)                                                             \n",
            "                                                                 \n",
            " conv2d_4 (Conv2D)           (None, 2, 2, 256)         295168    \n",
            "                                                                 \n",
            " max_pooling2d_2 (MaxPooling  (None, 1, 1, 256)        0         \n",
            " 2D)                                                             \n",
            "                                                                 \n",
            " dropout_1 (Dropout)         (None, 1, 1, 256)         0         \n",
            "                                                                 \n",
            " flatten (Flatten)           (None, 256)               0         \n",
            "                                                                 \n",
            " dense (Dense)               (None, 512)               131584    \n",
            "                                                                 \n",
            " dense_1 (Dense)             (None, 10)                5130      \n",
            "                                                                 \n",
            "=================================================================\n",
            "Total params: 690,890\n",
            "Trainable params: 690,890\n",
            "Non-trainable params: 0\n",
            "_________________________________________________________________\n",
            "Epoch 1/15\n",
            "274/274 [==============================] - 18s 34ms/step - loss: 0.3321 - accuracy: 0.8888 - val_loss: 0.0637 - val_accuracy: 0.9804\n",
            "Epoch 2/15\n",
            "274/274 [==============================] - 9s 31ms/step - loss: 0.0740 - accuracy: 0.9776 - val_loss: 0.0460 - val_accuracy: 0.9866\n",
            "Epoch 3/15\n",
            "274/274 [==============================] - 9s 31ms/step - loss: 0.0511 - accuracy: 0.9848 - val_loss: 0.0427 - val_accuracy: 0.9875\n",
            "Epoch 4/15\n",
            "274/274 [==============================] - 9s 32ms/step - loss: 0.0398 - accuracy: 0.9883 - val_loss: 0.0333 - val_accuracy: 0.9903\n",
            "Epoch 5/15\n",
            "274/274 [==============================] - 9s 31ms/step - loss: 0.0325 - accuracy: 0.9900 - val_loss: 0.0410 - val_accuracy: 0.9879\n",
            "Epoch 6/15\n",
            "274/274 [==============================] - 9s 34ms/step - loss: 0.0299 - accuracy: 0.9910 - val_loss: 0.0346 - val_accuracy: 0.9905\n",
            "Epoch 7/15\n",
            "274/274 [==============================] - 9s 31ms/step - loss: 0.0241 - accuracy: 0.9923 - val_loss: 0.0288 - val_accuracy: 0.9921\n",
            "Epoch 8/15\n",
            "274/274 [==============================] - 9s 31ms/step - loss: 0.0229 - accuracy: 0.9929 - val_loss: 0.0325 - val_accuracy: 0.9903\n",
            "Epoch 9/15\n",
            "274/274 [==============================] - 9s 32ms/step - loss: 0.0203 - accuracy: 0.9938 - val_loss: 0.0321 - val_accuracy: 0.9905\n",
            "Epoch 10/15\n",
            "274/274 [==============================] - 9s 32ms/step - loss: 0.0178 - accuracy: 0.9944 - val_loss: 0.0315 - val_accuracy: 0.9918\n",
            "Epoch 11/15\n",
            "274/274 [==============================] - 9s 33ms/step - loss: 0.0171 - accuracy: 0.9942 - val_loss: 0.0333 - val_accuracy: 0.9916\n",
            "Epoch 12/15\n",
            "274/274 [==============================] - 9s 32ms/step - loss: 0.0147 - accuracy: 0.9954 - val_loss: 0.0321 - val_accuracy: 0.9924\n",
            "Epoch 13/15\n",
            "274/274 [==============================] - 9s 33ms/step - loss: 0.0146 - accuracy: 0.9953 - val_loss: 0.0468 - val_accuracy: 0.9896\n",
            "Epoch 14/15\n",
            "274/274 [==============================] - 9s 32ms/step - loss: 0.0147 - accuracy: 0.9955 - val_loss: 0.0297 - val_accuracy: 0.9926\n",
            "Epoch 15/15\n",
            "274/274 [==============================] - 9s 32ms/step - loss: 0.0127 - accuracy: 0.9962 - val_loss: 0.0420 - val_accuracy: 0.9911\n",
            "657/657 [==============================] - 4s 6ms/step - loss: 0.0457 - accuracy: 0.9892\n",
            "Test Loss: 0.0457\n",
            "Test Accuracy: 0.9892\n"
          ]
        }
      ]
    },
    {
      "cell_type": "code",
      "source": [
        "def eval_model(model, X_test, Y_test):\n",
        "\n",
        "    score = model.evaluate(X_test, Y_test, verbose=1)\n",
        "    test_loss = score[0] \n",
        "    test_accuracy = score[1]\n",
        "    print('Test Loss:', '%.4f' % test_loss)\n",
        "    print('Test Accuracy:', '%.4f' % test_accuracy)\n",
        "\n",
        "    return test_loss, test_accuracy\n",
        "\n",
        "test_loss, test_accuracy = eval_model(model, X_test, Y_test)"
      ],
      "metadata": {
        "id": "-zh5f8MTtD2p",
        "outputId": "8e7f0df8-7272-4318-c0d6-7fcdcd0463e9",
        "colab": {
          "base_uri": "https://localhost:8080/"
        }
      },
      "execution_count": 16,
      "outputs": [
        {
          "output_type": "stream",
          "name": "stdout",
          "text": [
            "657/657 [==============================] - 4s 7ms/step - loss: 0.0457 - accuracy: 0.9892\n",
            "Test Loss: 0.0457\n",
            "Test Accuracy: 0.9892\n"
          ]
        }
      ]
    }
  ]
}